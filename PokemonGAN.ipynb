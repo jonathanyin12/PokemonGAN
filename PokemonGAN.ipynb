{
  "nbformat": 4,
  "nbformat_minor": 0,
  "metadata": {
    "colab": {
      "name": "Copy of PokemonGAN.ipynb",
      "provenance": [],
      "collapsed_sections": [],
      "toc_visible": true,
      "machine_shape": "hm",
      "include_colab_link": true
    },
    "kernelspec": {
      "name": "python3",
      "display_name": "Python 3"
    },
    "accelerator": "GPU",
    "widgets": {
      "application/vnd.jupyter.widget-state+json": {
        "9fbc3e7009314d0785384e4079a39fd7": {
          "model_module": "@jupyter-widgets/controls",
          "model_name": "HBoxModel",
          "state": {
            "_view_name": "HBoxView",
            "_dom_classes": [],
            "_model_name": "HBoxModel",
            "_view_module": "@jupyter-widgets/controls",
            "_model_module_version": "1.5.0",
            "_view_count": null,
            "_view_module_version": "1.5.0",
            "box_style": "",
            "layout": "IPY_MODEL_3cc87ba8dd1f4d41a91c312d203bff02",
            "_model_module": "@jupyter-widgets/controls",
            "children": [
              "IPY_MODEL_c5dfdaa70f114a6aabe97ca39cc3e78f",
              "IPY_MODEL_c07e9724c8bd4fa0a83af5c3f4a1e3fa"
            ]
          }
        },
        "3cc87ba8dd1f4d41a91c312d203bff02": {
          "model_module": "@jupyter-widgets/base",
          "model_name": "LayoutModel",
          "state": {
            "_view_name": "LayoutView",
            "grid_template_rows": null,
            "right": null,
            "justify_content": null,
            "_view_module": "@jupyter-widgets/base",
            "overflow": null,
            "_model_module_version": "1.2.0",
            "_view_count": null,
            "flex_flow": null,
            "width": null,
            "min_width": null,
            "border": null,
            "align_items": null,
            "bottom": null,
            "_model_module": "@jupyter-widgets/base",
            "top": null,
            "grid_column": null,
            "overflow_y": null,
            "overflow_x": null,
            "grid_auto_flow": null,
            "grid_area": null,
            "grid_template_columns": null,
            "flex": null,
            "_model_name": "LayoutModel",
            "justify_items": null,
            "grid_row": null,
            "max_height": null,
            "align_content": null,
            "visibility": null,
            "align_self": null,
            "height": null,
            "min_height": null,
            "padding": null,
            "grid_auto_rows": null,
            "grid_gap": null,
            "max_width": null,
            "order": null,
            "_view_module_version": "1.2.0",
            "grid_template_areas": null,
            "object_position": null,
            "object_fit": null,
            "grid_auto_columns": null,
            "margin": null,
            "display": null,
            "left": null
          }
        },
        "c5dfdaa70f114a6aabe97ca39cc3e78f": {
          "model_module": "@jupyter-widgets/controls",
          "model_name": "FloatProgressModel",
          "state": {
            "_view_name": "ProgressView",
            "style": "IPY_MODEL_2890e74fd09044debbb3cbe6cda5b100",
            "_dom_classes": [],
            "description": "100%",
            "_model_name": "FloatProgressModel",
            "bar_style": "success",
            "max": 11466,
            "_view_module": "@jupyter-widgets/controls",
            "_model_module_version": "1.5.0",
            "value": 11466,
            "_view_count": null,
            "_view_module_version": "1.5.0",
            "orientation": "horizontal",
            "min": 0,
            "description_tooltip": null,
            "_model_module": "@jupyter-widgets/controls",
            "layout": "IPY_MODEL_0d6a92538f3442f4b88b86f1eb5bd0f3"
          }
        },
        "c07e9724c8bd4fa0a83af5c3f4a1e3fa": {
          "model_module": "@jupyter-widgets/controls",
          "model_name": "HTMLModel",
          "state": {
            "_view_name": "HTMLView",
            "style": "IPY_MODEL_8fe6ebbe8a2d4070b38ef958ed220d5a",
            "_dom_classes": [],
            "description": "",
            "_model_name": "HTMLModel",
            "placeholder": "​",
            "_view_module": "@jupyter-widgets/controls",
            "_model_module_version": "1.5.0",
            "value": " 11466/11466 [00:52&lt;00:00, 220.34it/s]",
            "_view_count": null,
            "_view_module_version": "1.5.0",
            "description_tooltip": null,
            "_model_module": "@jupyter-widgets/controls",
            "layout": "IPY_MODEL_e38cd686cc58405fae430478b15ccb52"
          }
        },
        "2890e74fd09044debbb3cbe6cda5b100": {
          "model_module": "@jupyter-widgets/controls",
          "model_name": "ProgressStyleModel",
          "state": {
            "_view_name": "StyleView",
            "_model_name": "ProgressStyleModel",
            "description_width": "initial",
            "_view_module": "@jupyter-widgets/base",
            "_model_module_version": "1.5.0",
            "_view_count": null,
            "_view_module_version": "1.2.0",
            "bar_color": null,
            "_model_module": "@jupyter-widgets/controls"
          }
        },
        "0d6a92538f3442f4b88b86f1eb5bd0f3": {
          "model_module": "@jupyter-widgets/base",
          "model_name": "LayoutModel",
          "state": {
            "_view_name": "LayoutView",
            "grid_template_rows": null,
            "right": null,
            "justify_content": null,
            "_view_module": "@jupyter-widgets/base",
            "overflow": null,
            "_model_module_version": "1.2.0",
            "_view_count": null,
            "flex_flow": null,
            "width": null,
            "min_width": null,
            "border": null,
            "align_items": null,
            "bottom": null,
            "_model_module": "@jupyter-widgets/base",
            "top": null,
            "grid_column": null,
            "overflow_y": null,
            "overflow_x": null,
            "grid_auto_flow": null,
            "grid_area": null,
            "grid_template_columns": null,
            "flex": null,
            "_model_name": "LayoutModel",
            "justify_items": null,
            "grid_row": null,
            "max_height": null,
            "align_content": null,
            "visibility": null,
            "align_self": null,
            "height": null,
            "min_height": null,
            "padding": null,
            "grid_auto_rows": null,
            "grid_gap": null,
            "max_width": null,
            "order": null,
            "_view_module_version": "1.2.0",
            "grid_template_areas": null,
            "object_position": null,
            "object_fit": null,
            "grid_auto_columns": null,
            "margin": null,
            "display": null,
            "left": null
          }
        },
        "8fe6ebbe8a2d4070b38ef958ed220d5a": {
          "model_module": "@jupyter-widgets/controls",
          "model_name": "DescriptionStyleModel",
          "state": {
            "_view_name": "StyleView",
            "_model_name": "DescriptionStyleModel",
            "description_width": "",
            "_view_module": "@jupyter-widgets/base",
            "_model_module_version": "1.5.0",
            "_view_count": null,
            "_view_module_version": "1.2.0",
            "_model_module": "@jupyter-widgets/controls"
          }
        },
        "e38cd686cc58405fae430478b15ccb52": {
          "model_module": "@jupyter-widgets/base",
          "model_name": "LayoutModel",
          "state": {
            "_view_name": "LayoutView",
            "grid_template_rows": null,
            "right": null,
            "justify_content": null,
            "_view_module": "@jupyter-widgets/base",
            "overflow": null,
            "_model_module_version": "1.2.0",
            "_view_count": null,
            "flex_flow": null,
            "width": null,
            "min_width": null,
            "border": null,
            "align_items": null,
            "bottom": null,
            "_model_module": "@jupyter-widgets/base",
            "top": null,
            "grid_column": null,
            "overflow_y": null,
            "overflow_x": null,
            "grid_auto_flow": null,
            "grid_area": null,
            "grid_template_columns": null,
            "flex": null,
            "_model_name": "LayoutModel",
            "justify_items": null,
            "grid_row": null,
            "max_height": null,
            "align_content": null,
            "visibility": null,
            "align_self": null,
            "height": null,
            "min_height": null,
            "padding": null,
            "grid_auto_rows": null,
            "grid_gap": null,
            "max_width": null,
            "order": null,
            "_view_module_version": "1.2.0",
            "grid_template_areas": null,
            "object_position": null,
            "object_fit": null,
            "grid_auto_columns": null,
            "margin": null,
            "display": null,
            "left": null
          }
        },
        "97224a09b7694b9b8b9ca84976f4d4b0": {
          "model_module": "@jupyter-widgets/controls",
          "model_name": "HBoxModel",
          "state": {
            "_view_name": "HBoxView",
            "_dom_classes": [],
            "_model_name": "HBoxModel",
            "_view_module": "@jupyter-widgets/controls",
            "_model_module_version": "1.5.0",
            "_view_count": null,
            "_view_module_version": "1.5.0",
            "box_style": "",
            "layout": "IPY_MODEL_61cd07aab0b144bba277f57e1d03e465",
            "_model_module": "@jupyter-widgets/controls",
            "children": [
              "IPY_MODEL_f6e2f9fde2cc41fd9110bc5129d0d514",
              "IPY_MODEL_82ff6a37c4cb44c2b48bb84622e6b0a9"
            ]
          }
        },
        "61cd07aab0b144bba277f57e1d03e465": {
          "model_module": "@jupyter-widgets/base",
          "model_name": "LayoutModel",
          "state": {
            "_view_name": "LayoutView",
            "grid_template_rows": null,
            "right": null,
            "justify_content": null,
            "_view_module": "@jupyter-widgets/base",
            "overflow": null,
            "_model_module_version": "1.2.0",
            "_view_count": null,
            "flex_flow": null,
            "width": null,
            "min_width": null,
            "border": null,
            "align_items": null,
            "bottom": null,
            "_model_module": "@jupyter-widgets/base",
            "top": null,
            "grid_column": null,
            "overflow_y": null,
            "overflow_x": null,
            "grid_auto_flow": null,
            "grid_area": null,
            "grid_template_columns": null,
            "flex": null,
            "_model_name": "LayoutModel",
            "justify_items": null,
            "grid_row": null,
            "max_height": null,
            "align_content": null,
            "visibility": null,
            "align_self": null,
            "height": null,
            "min_height": null,
            "padding": null,
            "grid_auto_rows": null,
            "grid_gap": null,
            "max_width": null,
            "order": null,
            "_view_module_version": "1.2.0",
            "grid_template_areas": null,
            "object_position": null,
            "object_fit": null,
            "grid_auto_columns": null,
            "margin": null,
            "display": null,
            "left": null
          }
        },
        "f6e2f9fde2cc41fd9110bc5129d0d514": {
          "model_module": "@jupyter-widgets/controls",
          "model_name": "FloatProgressModel",
          "state": {
            "_view_name": "ProgressView",
            "style": "IPY_MODEL_92c8d79740244bddb27c6c175dd9b5a9",
            "_dom_classes": [],
            "description": "100%",
            "_model_name": "FloatProgressModel",
            "bar_style": "success",
            "max": 89,
            "_view_module": "@jupyter-widgets/controls",
            "_model_module_version": "1.5.0",
            "value": 89,
            "_view_count": null,
            "_view_module_version": "1.5.0",
            "orientation": "horizontal",
            "min": 0,
            "description_tooltip": null,
            "_model_module": "@jupyter-widgets/controls",
            "layout": "IPY_MODEL_559b9fc69a6f4397ac94f3e319614ec6"
          }
        },
        "82ff6a37c4cb44c2b48bb84622e6b0a9": {
          "model_module": "@jupyter-widgets/controls",
          "model_name": "HTMLModel",
          "state": {
            "_view_name": "HTMLView",
            "style": "IPY_MODEL_d90b8e6b864c4015a25d12e61ccc8232",
            "_dom_classes": [],
            "description": "",
            "_model_name": "HTMLModel",
            "placeholder": "​",
            "_view_module": "@jupyter-widgets/controls",
            "_model_module_version": "1.5.0",
            "value": " 89/89 [02:36&lt;00:00,  1.75s/it]",
            "_view_count": null,
            "_view_module_version": "1.5.0",
            "description_tooltip": null,
            "_model_module": "@jupyter-widgets/controls",
            "layout": "IPY_MODEL_cd6d35a5233f4fd7b3bc24142d3ac4f1"
          }
        },
        "92c8d79740244bddb27c6c175dd9b5a9": {
          "model_module": "@jupyter-widgets/controls",
          "model_name": "ProgressStyleModel",
          "state": {
            "_view_name": "StyleView",
            "_model_name": "ProgressStyleModel",
            "description_width": "initial",
            "_view_module": "@jupyter-widgets/base",
            "_model_module_version": "1.5.0",
            "_view_count": null,
            "_view_module_version": "1.2.0",
            "bar_color": null,
            "_model_module": "@jupyter-widgets/controls"
          }
        },
        "559b9fc69a6f4397ac94f3e319614ec6": {
          "model_module": "@jupyter-widgets/base",
          "model_name": "LayoutModel",
          "state": {
            "_view_name": "LayoutView",
            "grid_template_rows": null,
            "right": null,
            "justify_content": null,
            "_view_module": "@jupyter-widgets/base",
            "overflow": null,
            "_model_module_version": "1.2.0",
            "_view_count": null,
            "flex_flow": null,
            "width": null,
            "min_width": null,
            "border": null,
            "align_items": null,
            "bottom": null,
            "_model_module": "@jupyter-widgets/base",
            "top": null,
            "grid_column": null,
            "overflow_y": null,
            "overflow_x": null,
            "grid_auto_flow": null,
            "grid_area": null,
            "grid_template_columns": null,
            "flex": null,
            "_model_name": "LayoutModel",
            "justify_items": null,
            "grid_row": null,
            "max_height": null,
            "align_content": null,
            "visibility": null,
            "align_self": null,
            "height": null,
            "min_height": null,
            "padding": null,
            "grid_auto_rows": null,
            "grid_gap": null,
            "max_width": null,
            "order": null,
            "_view_module_version": "1.2.0",
            "grid_template_areas": null,
            "object_position": null,
            "object_fit": null,
            "grid_auto_columns": null,
            "margin": null,
            "display": null,
            "left": null
          }
        },
        "d90b8e6b864c4015a25d12e61ccc8232": {
          "model_module": "@jupyter-widgets/controls",
          "model_name": "DescriptionStyleModel",
          "state": {
            "_view_name": "StyleView",
            "_model_name": "DescriptionStyleModel",
            "description_width": "",
            "_view_module": "@jupyter-widgets/base",
            "_model_module_version": "1.5.0",
            "_view_count": null,
            "_view_module_version": "1.2.0",
            "_model_module": "@jupyter-widgets/controls"
          }
        },
        "cd6d35a5233f4fd7b3bc24142d3ac4f1": {
          "model_module": "@jupyter-widgets/base",
          "model_name": "LayoutModel",
          "state": {
            "_view_name": "LayoutView",
            "grid_template_rows": null,
            "right": null,
            "justify_content": null,
            "_view_module": "@jupyter-widgets/base",
            "overflow": null,
            "_model_module_version": "1.2.0",
            "_view_count": null,
            "flex_flow": null,
            "width": null,
            "min_width": null,
            "border": null,
            "align_items": null,
            "bottom": null,
            "_model_module": "@jupyter-widgets/base",
            "top": null,
            "grid_column": null,
            "overflow_y": null,
            "overflow_x": null,
            "grid_auto_flow": null,
            "grid_area": null,
            "grid_template_columns": null,
            "flex": null,
            "_model_name": "LayoutModel",
            "justify_items": null,
            "grid_row": null,
            "max_height": null,
            "align_content": null,
            "visibility": null,
            "align_self": null,
            "height": null,
            "min_height": null,
            "padding": null,
            "grid_auto_rows": null,
            "grid_gap": null,
            "max_width": null,
            "order": null,
            "_view_module_version": "1.2.0",
            "grid_template_areas": null,
            "object_position": null,
            "object_fit": null,
            "grid_auto_columns": null,
            "margin": null,
            "display": null,
            "left": null
          }
        },
        "a62be3d24a5f4f6d80fb3b0032218a1f": {
          "model_module": "@jupyter-widgets/controls",
          "model_name": "HBoxModel",
          "state": {
            "_view_name": "HBoxView",
            "_dom_classes": [],
            "_model_name": "HBoxModel",
            "_view_module": "@jupyter-widgets/controls",
            "_model_module_version": "1.5.0",
            "_view_count": null,
            "_view_module_version": "1.5.0",
            "box_style": "",
            "layout": "IPY_MODEL_b05d6a4f8fa1442497ced6996763530d",
            "_model_module": "@jupyter-widgets/controls",
            "children": [
              "IPY_MODEL_d0f8ca5accae48798f76907b4a493874",
              "IPY_MODEL_01c7eaf7df7d450ba5140d758aa0ac65"
            ]
          }
        },
        "b05d6a4f8fa1442497ced6996763530d": {
          "model_module": "@jupyter-widgets/base",
          "model_name": "LayoutModel",
          "state": {
            "_view_name": "LayoutView",
            "grid_template_rows": null,
            "right": null,
            "justify_content": null,
            "_view_module": "@jupyter-widgets/base",
            "overflow": null,
            "_model_module_version": "1.2.0",
            "_view_count": null,
            "flex_flow": null,
            "width": null,
            "min_width": null,
            "border": null,
            "align_items": null,
            "bottom": null,
            "_model_module": "@jupyter-widgets/base",
            "top": null,
            "grid_column": null,
            "overflow_y": null,
            "overflow_x": null,
            "grid_auto_flow": null,
            "grid_area": null,
            "grid_template_columns": null,
            "flex": null,
            "_model_name": "LayoutModel",
            "justify_items": null,
            "grid_row": null,
            "max_height": null,
            "align_content": null,
            "visibility": null,
            "align_self": null,
            "height": null,
            "min_height": null,
            "padding": null,
            "grid_auto_rows": null,
            "grid_gap": null,
            "max_width": null,
            "order": null,
            "_view_module_version": "1.2.0",
            "grid_template_areas": null,
            "object_position": null,
            "object_fit": null,
            "grid_auto_columns": null,
            "margin": null,
            "display": null,
            "left": null
          }
        },
        "d0f8ca5accae48798f76907b4a493874": {
          "model_module": "@jupyter-widgets/controls",
          "model_name": "FloatProgressModel",
          "state": {
            "_view_name": "ProgressView",
            "style": "IPY_MODEL_c5005f4cba19495d8048e5e6c28f740e",
            "_dom_classes": [],
            "description": "100%",
            "_model_name": "FloatProgressModel",
            "bar_style": "success",
            "max": 89,
            "_view_module": "@jupyter-widgets/controls",
            "_model_module_version": "1.5.0",
            "value": 89,
            "_view_count": null,
            "_view_module_version": "1.5.0",
            "orientation": "horizontal",
            "min": 0,
            "description_tooltip": null,
            "_model_module": "@jupyter-widgets/controls",
            "layout": "IPY_MODEL_4612b4a457834f07ae294c4d239e22c5"
          }
        },
        "01c7eaf7df7d450ba5140d758aa0ac65": {
          "model_module": "@jupyter-widgets/controls",
          "model_name": "HTMLModel",
          "state": {
            "_view_name": "HTMLView",
            "style": "IPY_MODEL_7c08b56b91014ebaada878ab8731da54",
            "_dom_classes": [],
            "description": "",
            "_model_name": "HTMLModel",
            "placeholder": "​",
            "_view_module": "@jupyter-widgets/controls",
            "_model_module_version": "1.5.0",
            "value": " 89/89 [02:24&lt;00:00,  1.62s/it]",
            "_view_count": null,
            "_view_module_version": "1.5.0",
            "description_tooltip": null,
            "_model_module": "@jupyter-widgets/controls",
            "layout": "IPY_MODEL_3147ea16d3ac41d4842c7a90fcd87780"
          }
        },
        "c5005f4cba19495d8048e5e6c28f740e": {
          "model_module": "@jupyter-widgets/controls",
          "model_name": "ProgressStyleModel",
          "state": {
            "_view_name": "StyleView",
            "_model_name": "ProgressStyleModel",
            "description_width": "initial",
            "_view_module": "@jupyter-widgets/base",
            "_model_module_version": "1.5.0",
            "_view_count": null,
            "_view_module_version": "1.2.0",
            "bar_color": null,
            "_model_module": "@jupyter-widgets/controls"
          }
        },
        "4612b4a457834f07ae294c4d239e22c5": {
          "model_module": "@jupyter-widgets/base",
          "model_name": "LayoutModel",
          "state": {
            "_view_name": "LayoutView",
            "grid_template_rows": null,
            "right": null,
            "justify_content": null,
            "_view_module": "@jupyter-widgets/base",
            "overflow": null,
            "_model_module_version": "1.2.0",
            "_view_count": null,
            "flex_flow": null,
            "width": null,
            "min_width": null,
            "border": null,
            "align_items": null,
            "bottom": null,
            "_model_module": "@jupyter-widgets/base",
            "top": null,
            "grid_column": null,
            "overflow_y": null,
            "overflow_x": null,
            "grid_auto_flow": null,
            "grid_area": null,
            "grid_template_columns": null,
            "flex": null,
            "_model_name": "LayoutModel",
            "justify_items": null,
            "grid_row": null,
            "max_height": null,
            "align_content": null,
            "visibility": null,
            "align_self": null,
            "height": null,
            "min_height": null,
            "padding": null,
            "grid_auto_rows": null,
            "grid_gap": null,
            "max_width": null,
            "order": null,
            "_view_module_version": "1.2.0",
            "grid_template_areas": null,
            "object_position": null,
            "object_fit": null,
            "grid_auto_columns": null,
            "margin": null,
            "display": null,
            "left": null
          }
        },
        "7c08b56b91014ebaada878ab8731da54": {
          "model_module": "@jupyter-widgets/controls",
          "model_name": "DescriptionStyleModel",
          "state": {
            "_view_name": "StyleView",
            "_model_name": "DescriptionStyleModel",
            "description_width": "",
            "_view_module": "@jupyter-widgets/base",
            "_model_module_version": "1.5.0",
            "_view_count": null,
            "_view_module_version": "1.2.0",
            "_model_module": "@jupyter-widgets/controls"
          }
        },
        "3147ea16d3ac41d4842c7a90fcd87780": {
          "model_module": "@jupyter-widgets/base",
          "model_name": "LayoutModel",
          "state": {
            "_view_name": "LayoutView",
            "grid_template_rows": null,
            "right": null,
            "justify_content": null,
            "_view_module": "@jupyter-widgets/base",
            "overflow": null,
            "_model_module_version": "1.2.0",
            "_view_count": null,
            "flex_flow": null,
            "width": null,
            "min_width": null,
            "border": null,
            "align_items": null,
            "bottom": null,
            "_model_module": "@jupyter-widgets/base",
            "top": null,
            "grid_column": null,
            "overflow_y": null,
            "overflow_x": null,
            "grid_auto_flow": null,
            "grid_area": null,
            "grid_template_columns": null,
            "flex": null,
            "_model_name": "LayoutModel",
            "justify_items": null,
            "grid_row": null,
            "max_height": null,
            "align_content": null,
            "visibility": null,
            "align_self": null,
            "height": null,
            "min_height": null,
            "padding": null,
            "grid_auto_rows": null,
            "grid_gap": null,
            "max_width": null,
            "order": null,
            "_view_module_version": "1.2.0",
            "grid_template_areas": null,
            "object_position": null,
            "object_fit": null,
            "grid_auto_columns": null,
            "margin": null,
            "display": null,
            "left": null
          }
        },
        "3cf3e533b5f74c69bbd57fbb1390e5f6": {
          "model_module": "@jupyter-widgets/controls",
          "model_name": "HBoxModel",
          "state": {
            "_view_name": "HBoxView",
            "_dom_classes": [],
            "_model_name": "HBoxModel",
            "_view_module": "@jupyter-widgets/controls",
            "_model_module_version": "1.5.0",
            "_view_count": null,
            "_view_module_version": "1.5.0",
            "box_style": "",
            "layout": "IPY_MODEL_ec9192826a7140a38123343e817df13f",
            "_model_module": "@jupyter-widgets/controls",
            "children": [
              "IPY_MODEL_f7e32427233440129c805f2fe42919da",
              "IPY_MODEL_ff0435cf88454f83bb5f21e1d248c145"
            ]
          }
        },
        "ec9192826a7140a38123343e817df13f": {
          "model_module": "@jupyter-widgets/base",
          "model_name": "LayoutModel",
          "state": {
            "_view_name": "LayoutView",
            "grid_template_rows": null,
            "right": null,
            "justify_content": null,
            "_view_module": "@jupyter-widgets/base",
            "overflow": null,
            "_model_module_version": "1.2.0",
            "_view_count": null,
            "flex_flow": null,
            "width": null,
            "min_width": null,
            "border": null,
            "align_items": null,
            "bottom": null,
            "_model_module": "@jupyter-widgets/base",
            "top": null,
            "grid_column": null,
            "overflow_y": null,
            "overflow_x": null,
            "grid_auto_flow": null,
            "grid_area": null,
            "grid_template_columns": null,
            "flex": null,
            "_model_name": "LayoutModel",
            "justify_items": null,
            "grid_row": null,
            "max_height": null,
            "align_content": null,
            "visibility": null,
            "align_self": null,
            "height": null,
            "min_height": null,
            "padding": null,
            "grid_auto_rows": null,
            "grid_gap": null,
            "max_width": null,
            "order": null,
            "_view_module_version": "1.2.0",
            "grid_template_areas": null,
            "object_position": null,
            "object_fit": null,
            "grid_auto_columns": null,
            "margin": null,
            "display": null,
            "left": null
          }
        },
        "f7e32427233440129c805f2fe42919da": {
          "model_module": "@jupyter-widgets/controls",
          "model_name": "FloatProgressModel",
          "state": {
            "_view_name": "ProgressView",
            "style": "IPY_MODEL_6aac70ca2d384c8cbb3b116a7bc47cf9",
            "_dom_classes": [],
            "description": " 51%",
            "_model_name": "FloatProgressModel",
            "bar_style": "",
            "max": 89,
            "_view_module": "@jupyter-widgets/controls",
            "_model_module_version": "1.5.0",
            "value": 45,
            "_view_count": null,
            "_view_module_version": "1.5.0",
            "orientation": "horizontal",
            "min": 0,
            "description_tooltip": null,
            "_model_module": "@jupyter-widgets/controls",
            "layout": "IPY_MODEL_f2cf07e9544d4ca282982ccce27a52c0"
          }
        },
        "ff0435cf88454f83bb5f21e1d248c145": {
          "model_module": "@jupyter-widgets/controls",
          "model_name": "HTMLModel",
          "state": {
            "_view_name": "HTMLView",
            "style": "IPY_MODEL_862d9658a65447e89b6c897ef6409ad0",
            "_dom_classes": [],
            "description": "",
            "_model_name": "HTMLModel",
            "placeholder": "​",
            "_view_module": "@jupyter-widgets/controls",
            "_model_module_version": "1.5.0",
            "value": " 45/89 [01:12&lt;01:11,  1.62s/it]",
            "_view_count": null,
            "_view_module_version": "1.5.0",
            "description_tooltip": null,
            "_model_module": "@jupyter-widgets/controls",
            "layout": "IPY_MODEL_120f11f008e44397a7f0458e4151ccf3"
          }
        },
        "6aac70ca2d384c8cbb3b116a7bc47cf9": {
          "model_module": "@jupyter-widgets/controls",
          "model_name": "ProgressStyleModel",
          "state": {
            "_view_name": "StyleView",
            "_model_name": "ProgressStyleModel",
            "description_width": "initial",
            "_view_module": "@jupyter-widgets/base",
            "_model_module_version": "1.5.0",
            "_view_count": null,
            "_view_module_version": "1.2.0",
            "bar_color": null,
            "_model_module": "@jupyter-widgets/controls"
          }
        },
        "f2cf07e9544d4ca282982ccce27a52c0": {
          "model_module": "@jupyter-widgets/base",
          "model_name": "LayoutModel",
          "state": {
            "_view_name": "LayoutView",
            "grid_template_rows": null,
            "right": null,
            "justify_content": null,
            "_view_module": "@jupyter-widgets/base",
            "overflow": null,
            "_model_module_version": "1.2.0",
            "_view_count": null,
            "flex_flow": null,
            "width": null,
            "min_width": null,
            "border": null,
            "align_items": null,
            "bottom": null,
            "_model_module": "@jupyter-widgets/base",
            "top": null,
            "grid_column": null,
            "overflow_y": null,
            "overflow_x": null,
            "grid_auto_flow": null,
            "grid_area": null,
            "grid_template_columns": null,
            "flex": null,
            "_model_name": "LayoutModel",
            "justify_items": null,
            "grid_row": null,
            "max_height": null,
            "align_content": null,
            "visibility": null,
            "align_self": null,
            "height": null,
            "min_height": null,
            "padding": null,
            "grid_auto_rows": null,
            "grid_gap": null,
            "max_width": null,
            "order": null,
            "_view_module_version": "1.2.0",
            "grid_template_areas": null,
            "object_position": null,
            "object_fit": null,
            "grid_auto_columns": null,
            "margin": null,
            "display": null,
            "left": null
          }
        },
        "862d9658a65447e89b6c897ef6409ad0": {
          "model_module": "@jupyter-widgets/controls",
          "model_name": "DescriptionStyleModel",
          "state": {
            "_view_name": "StyleView",
            "_model_name": "DescriptionStyleModel",
            "description_width": "",
            "_view_module": "@jupyter-widgets/base",
            "_model_module_version": "1.5.0",
            "_view_count": null,
            "_view_module_version": "1.2.0",
            "_model_module": "@jupyter-widgets/controls"
          }
        },
        "120f11f008e44397a7f0458e4151ccf3": {
          "model_module": "@jupyter-widgets/base",
          "model_name": "LayoutModel",
          "state": {
            "_view_name": "LayoutView",
            "grid_template_rows": null,
            "right": null,
            "justify_content": null,
            "_view_module": "@jupyter-widgets/base",
            "overflow": null,
            "_model_module_version": "1.2.0",
            "_view_count": null,
            "flex_flow": null,
            "width": null,
            "min_width": null,
            "border": null,
            "align_items": null,
            "bottom": null,
            "_model_module": "@jupyter-widgets/base",
            "top": null,
            "grid_column": null,
            "overflow_y": null,
            "overflow_x": null,
            "grid_auto_flow": null,
            "grid_area": null,
            "grid_template_columns": null,
            "flex": null,
            "_model_name": "LayoutModel",
            "justify_items": null,
            "grid_row": null,
            "max_height": null,
            "align_content": null,
            "visibility": null,
            "align_self": null,
            "height": null,
            "min_height": null,
            "padding": null,
            "grid_auto_rows": null,
            "grid_gap": null,
            "max_width": null,
            "order": null,
            "_view_module_version": "1.2.0",
            "grid_template_areas": null,
            "object_position": null,
            "object_fit": null,
            "grid_auto_columns": null,
            "margin": null,
            "display": null,
            "left": null
          }
        }
      }
    }
  },
  "cells": [
    {
      "cell_type": "markdown",
      "metadata": {
        "id": "view-in-github",
        "colab_type": "text"
      },
      "source": [
        "<a href=\"https://colab.research.google.com/github/jonathanyin12/Pokemon_GAN/blob/master/PokemonGAN.ipynb\" target=\"_parent\"><img src=\"https://colab.research.google.com/assets/colab-badge.svg\" alt=\"Open In Colab\"/></a>"
      ]
    },
    {
      "cell_type": "markdown",
      "metadata": {
        "id": "nWgsaTi8VWQV",
        "colab_type": "text"
      },
      "source": [
        "# **PokémonGAN**\n",
        "**A generative adversarial network that creates new Pokémon from a latent noise vector.**\n",
        "\n",
        "Note: code available on [Google Colab](https://colab.research.google.com/drive/1x-K3smQp346dR2qa2F3vYaMfaDvtx9Mt). Training data can be found [here.](https://drive.google.com/open?id=10Wtmd6NsfhmSiws68muWYnhyGqyKWrsZ)"
      ]
    },
    {
      "cell_type": "markdown",
      "metadata": {
        "id": "-CrLo5KjDi9a",
        "colab_type": "text"
      },
      "source": [
        "## **Connect to Google Drive**"
      ]
    },
    {
      "cell_type": "code",
      "metadata": {
        "id": "JViGn1S2UFnw",
        "colab_type": "code",
        "colab": {
          "base_uri": "https://localhost:8080/",
          "height": 125
        },
        "outputId": "83c80549-8fcb-40e5-ec12-32e5db891a57"
      },
      "source": [
        "from google.colab import drive\n",
        "drive.mount('/content/drive')\n",
        "\n",
        "import os\n",
        "\n",
        "root_folder='/content/drive/My Drive/PokemonGAN'\n",
        "\n",
        "if not os.path.exists(root_folder):\n",
        "    os.makedirs(root_folder)"
      ],
      "execution_count": 1,
      "outputs": [
        {
          "output_type": "stream",
          "text": [
            "Go to this URL in a browser: https://accounts.google.com/o/oauth2/auth?client_id=947318989803-6bn6qk8qdgf4n4g3pfee6491hc0brc4i.apps.googleusercontent.com&redirect_uri=urn%3aietf%3awg%3aoauth%3a2.0%3aoob&response_type=code&scope=email%20https%3a%2f%2fwww.googleapis.com%2fauth%2fdocs.test%20https%3a%2f%2fwww.googleapis.com%2fauth%2fdrive%20https%3a%2f%2fwww.googleapis.com%2fauth%2fdrive.photos.readonly%20https%3a%2f%2fwww.googleapis.com%2fauth%2fpeopleapi.readonly\n",
            "\n",
            "Enter your authorization code:\n",
            "··········\n",
            "Mounted at /content/drive\n"
          ],
          "name": "stdout"
        }
      ]
    },
    {
      "cell_type": "markdown",
      "metadata": {
        "id": "NwuRIGPwVowX",
        "colab_type": "text"
      },
      "source": [
        "## **Load data**\n"
      ]
    },
    {
      "cell_type": "markdown",
      "metadata": {
        "id": "YmemmD9gZsRY",
        "colab_type": "text"
      },
      "source": [
        "#### **Prepare images into NumPy array**"
      ]
    },
    {
      "cell_type": "code",
      "metadata": {
        "id": "Ks60JfTWbmrq",
        "colab_type": "code",
        "colab": {
          "base_uri": "https://localhost:8080/",
          "height": 158
        },
        "outputId": "08f919f2-1f6f-4f91-d21f-931d22aece3a"
      },
      "source": [
        "!git clone https://github.com/jonathanyin12/Pokemon_GAN"
      ],
      "execution_count": 2,
      "outputs": [
        {
          "output_type": "stream",
          "text": [
            "Cloning into 'Pokemon_GAN'...\n",
            "remote: Enumerating objects: 3, done.\u001b[K\n",
            "remote: Counting objects: 100% (3/3), done.\u001b[K\n",
            "remote: Compressing objects: 100% (3/3), done.\u001b[K\n",
            "remote: Total 44483 (delta 0), reused 0 (delta 0), pack-reused 44480\u001b[K\n",
            "Receiving objects: 100% (44483/44483), 1.95 GiB | 41.82 MiB/s, done.\n",
            "Resolving deltas: 100% (32/32), done.\n",
            "Checking out files: 100% (13293/13293), done.\n"
          ],
          "name": "stdout"
        }
      ]
    },
    {
      "cell_type": "code",
      "metadata": {
        "id": "2ArkFCwvADdy",
        "colab_type": "code",
        "colab": {
          "base_uri": "https://localhost:8080/",
          "height": 66,
          "referenced_widgets": [
            "9fbc3e7009314d0785384e4079a39fd7",
            "3cc87ba8dd1f4d41a91c312d203bff02",
            "c5dfdaa70f114a6aabe97ca39cc3e78f",
            "c07e9724c8bd4fa0a83af5c3f4a1e3fa",
            "2890e74fd09044debbb3cbe6cda5b100",
            "0d6a92538f3442f4b88b86f1eb5bd0f3",
            "8fe6ebbe8a2d4070b38ef958ed220d5a",
            "e38cd686cc58405fae430478b15ccb52"
          ]
        },
        "outputId": "740a9c5c-a92e-481e-bb7b-a421ed2cc0b1"
      },
      "source": [
        "from PIL import Image\n",
        "import os\n",
        "from tqdm.notebook import tqdm\n",
        "import numpy as np\n",
        "\n",
        "\n",
        "def load_data(path, img_dim):\n",
        "    images = []\n",
        "    for file in tqdm(os.listdir(path)):\n",
        "        img = Image.open(os.path.join(path, file))\n",
        "        img = img.resize((img_dim, img_dim))\n",
        "        img = np.array(img)\n",
        "        img = (img-127.5)/127.5\n",
        "        images.append(img)\n",
        "    return np.asarray(images)\n",
        "\n",
        "data_dir = '/content/Pokemon_GAN/training_dataset'\n",
        "img_dim = 128\n",
        "images = load_data(data_dir, img_dim)"
      ],
      "execution_count": 3,
      "outputs": [
        {
          "output_type": "display_data",
          "data": {
            "application/vnd.jupyter.widget-view+json": {
              "model_id": "9fbc3e7009314d0785384e4079a39fd7",
              "version_minor": 0,
              "version_major": 2
            },
            "text/plain": [
              "HBox(children=(FloatProgress(value=0.0, max=11466.0), HTML(value='')))"
            ]
          },
          "metadata": {
            "tags": []
          }
        },
        {
          "output_type": "stream",
          "text": [
            "\n"
          ],
          "name": "stdout"
        }
      ]
    },
    {
      "cell_type": "markdown",
      "metadata": {
        "id": "qdoHPAiOwixH",
        "colab_type": "text"
      },
      "source": [
        "#### **Display image from dataset**"
      ]
    },
    {
      "cell_type": "code",
      "metadata": {
        "id": "L9vInq7ggFsd",
        "colab_type": "code",
        "colab": {
          "base_uri": "https://localhost:8080/",
          "height": 265
        },
        "outputId": "ef4cc013-96dd-4989-95c7-ee8eb772676e"
      },
      "source": [
        "from matplotlib import pyplot as plt\n",
        "\n",
        "plt.imshow(images[0])\n",
        "plt.axis('off')\n",
        "plt.show()"
      ],
      "execution_count": 4,
      "outputs": [
        {
          "output_type": "stream",
          "text": [
            "Clipping input data to the valid range for imshow with RGB data ([0..1] for floats or [0..255] for integers).\n"
          ],
          "name": "stderr"
        },
        {
          "output_type": "display_data",
          "data": {
            "image/png": "[encoded data removed]",
            "text/plain": [
              "<Figure size 432x288 with 1 Axes>"
            ]
          },
          "metadata": {
            "tags": [],
            "needs_background": "light"
          }
        }
      ]
    },
    {
      "cell_type": "markdown",
      "metadata": {
        "id": "X0H-Jw4zA_0y",
        "colab_type": "text"
      },
      "source": [
        "## **Model architecture**\n",
        "\n",
        "Uses DCGAN architecture presented by Radford et. al. 2015. The paper can be found here: [https://arxiv.org/pdf/1511.06434.pdf](https://arxiv.org/pdf/1511.06434.pdf)"
      ]
    },
    {
      "cell_type": "markdown",
      "metadata": {
        "id": "zUhHPf5h3W-A",
        "colab_type": "text"
      },
      "source": [
        "#### **Generator network**"
      ]
    },
    {
      "cell_type": "code",
      "metadata": {
        "id": "3ycdos2iNVJg",
        "colab_type": "code",
        "colab": {
          "base_uri": "https://localhost:8080/",
          "height": 34
        },
        "outputId": "dea12666-3d13-4b57-d6fb-6e44e9726a25"
      },
      "source": [
        "from keras.layers import Dense, Reshape, Flatten, Input, BatchNormalization, Dropout, Activation\n",
        "from keras.layers.convolutional import Conv2D\n",
        "from keras.models import Sequential\n",
        "\n",
        "\n",
        "def build_generator():\n",
        "    net = Sequential()    \n",
        "    net.add(Dense(16*16*256, input_dim=100))\n",
        "    net.add(BatchNormalization(momentum=0.9))\n",
        "    net.add(Activation('relu'))\n",
        "    net.add(Reshape((16,16,256)))\n",
        "    net.add(Dropout(0.4))\n",
        "    \n",
        "    net.add(UpSampling2D())\n",
        "    net.add(Conv2D(128, 5, padding='same'))\n",
        "    net.add(BatchNormalization(momentum=0.9))\n",
        "    net.add(Activation('relu'))\n",
        "    \n",
        "    net.add(UpSampling2D())\n",
        "    net.add(Conv2D(128, 5, padding='same'))\n",
        "    net.add(BatchNormalization(momentum=0.9))\n",
        "    net.add(Activation('relu'))\n",
        "    \n",
        "    net.add(UpSampling2D())\n",
        "    net.add(Conv2D(64, 5, padding='same'))\n",
        "    net.add(BatchNormalization(momentum=0.9))\n",
        "    net.add(Activation('relu'))\n",
        "    \n",
        "    net.add(Conv2D(32, 5, padding='same'))\n",
        "    net.add(BatchNormalization(momentum=0.9))\n",
        "    net.add(Activation('relu'))\n",
        "    \n",
        "    net.add(Conv2D(3, 5, padding='same'))\n",
        "    net.add(Activation('tanh'))   \n",
        "\n",
        "    # net.summary()\n",
        "    \n",
        "    return net"
      ],
      "execution_count": 5,
      "outputs": [
        {
          "output_type": "stream",
          "text": [
            "Using TensorFlow backend.\n"
          ],
          "name": "stderr"
        }
      ]
    },
    {
      "cell_type": "markdown",
      "metadata": {
        "id": "NtXq2tYP3ak8",
        "colab_type": "text"
      },
      "source": [
        "#### **Discriminator network**"
      ]
    },
    {
      "cell_type": "code",
      "metadata": {
        "id": "0oXuTUjF0eOR",
        "colab_type": "code",
        "colab": {}
      },
      "source": [
        "from keras.layers.convolutional import Conv2D, UpSampling2D\n",
        "from keras.layers.advanced_activations import LeakyReLU\n",
        "\n",
        "def build_discriminator():\n",
        "    net = Sequential()\n",
        "    net.add(Conv2D(64, 5, strides=2, input_shape=(128, 128, 3), padding='same'))\n",
        "    net.add(LeakyReLU())\n",
        "    \n",
        "    net.add(Conv2D(128, 5, strides=2, padding='same'))\n",
        "    net.add(LeakyReLU())\n",
        "    net.add(Dropout(0.4))\n",
        "    \n",
        "    net.add(Conv2D(256, 5, strides=2, padding='same'))\n",
        "    net.add(LeakyReLU())\n",
        "    net.add(Dropout(0.4))\n",
        "    \n",
        "    net.add(Conv2D(512, 5, strides=2, padding='same'))\n",
        "    net.add(LeakyReLU())\n",
        "    net.add(Dropout(0.4))\n",
        "    \n",
        "    net.add(Flatten())\n",
        "    net.add(Dense(1))\n",
        "    net.add(Activation('sigmoid'))\n",
        "    \n",
        "    # net.summary()\n",
        "    \n",
        "    return net"
      ],
      "execution_count": 6,
      "outputs": []
    },
    {
      "cell_type": "markdown",
      "metadata": {
        "id": "2Hq43Eh_lOzz",
        "colab_type": "text"
      },
      "source": [
        "## **Compile models**\n",
        "\n",
        "Adversarial model combines both generator and discriminator\n"
      ]
    },
    {
      "cell_type": "code",
      "metadata": {
        "id": "vX-wgj3Vi8fA",
        "colab_type": "code",
        "colab": {}
      },
      "source": [
        "from keras.optimizers import Adam, RMSprop\n",
        "\n",
        "discriminator_model = build_discriminator()\n",
        "discriminator_optimizer=RMSprop(lr=0.0002, clipvalue=1.0, decay=6e-8)\n",
        "discriminator_model.compile(loss='binary_crossentropy', \n",
        "                            optimizer=discriminator_optimizer,\n",
        "                            metrics=['accuracy'])\n",
        "\n",
        "\n",
        "adversarial_model = Sequential()\n",
        "generator = build_generator()\n",
        "adversarial_model.add(generator)\n",
        "\n",
        "# discriminator layers frozen so only generator layers will train\n",
        "for layer in discriminator_model.layers: \n",
        "    layer.trainable = False\n",
        "\n",
        "adversarial_model.add(discriminator_model)\n",
        "adversarial_optimizer=Adam(lr=0.0001, clipvalue=1.0, decay=3e-8)\n",
        "adversarial_model.compile(loss='binary_crossentropy',\n",
        "                          optimizer=adversarial_optimizer,\n",
        "                          metrics=['accuracy'])   "
      ],
      "execution_count": 7,
      "outputs": []
    },
    {
      "cell_type": "markdown",
      "metadata": {
        "id": "FjWU69yiFFZW",
        "colab_type": "text"
      },
      "source": [
        "## **Training**"
      ]
    },
    {
      "cell_type": "markdown",
      "metadata": {
        "id": "oqRbxE_5XATT",
        "colab_type": "text"
      },
      "source": [
        "#### **Load previous weights**"
      ]
    },
    {
      "cell_type": "code",
      "metadata": {
        "id": "a-XsexNz2ekL",
        "colab_type": "code",
        "colab": {
          "base_uri": "https://localhost:8080/",
          "height": 34
        },
        "outputId": "c86fc7e9-9a97-4d75-f883-b83febcb6ecf"
      },
      "source": [
        "past_epoch=0\n",
        "\n",
        "try: \n",
        "    discriminator_model.load_weights(root_folder+'/weights/discriminator_weights{}.h5'.format(past_epoch))\n",
        "    adversarial_model.load_weights(root_folder+'/weights/adversarial_weights{}.h5'.format(past_epoch))\n",
        "    print('Loading model weights')\n",
        "except:\n",
        "    print('No model weights found.')"
      ],
      "execution_count": 8,
      "outputs": [
        {
          "output_type": "stream",
          "text": [
            "No model weights found.\n"
          ],
          "name": "stdout"
        }
      ]
    },
    {
      "cell_type": "markdown",
      "metadata": {
        "id": "_2xBGo5rxmb3",
        "colab_type": "text"
      },
      "source": [
        "#### **Custom training function**"
      ]
    },
    {
      "cell_type": "code",
      "metadata": {
        "id": "c-jtYO97kKSY",
        "colab_type": "code",
        "colab": {}
      },
      "source": [
        "def train(epoch, batch_size):\n",
        "    print('\\nEpoch: {}'.format(epoch))\n",
        "    \n",
        "    np.random.shuffle(images)\n",
        "    total_steps = images.shape[0] // batch_size\n",
        "   \n",
        "    for step in tqdm(range(total_steps)):\n",
        "        # generate fake images by passing random noise into generator\n",
        "        noise = np.random.normal(0, 1, (batch_size, 100))\n",
        "        images_fake = generator.predict(noise) \n",
        "        \n",
        "        # combine fake and real images\n",
        "        images_real = images[step * batch_size: (step + 1) * batch_size]  \n",
        "        x = np.concatenate((images_fake, images_real)) \n",
        "\n",
        "        # create training labels\n",
        "        y = np.zeros([2*batch_size, 1])\n",
        "        y[batch_size:, :] = 1 \n",
        "    \n",
        "        # train discriminator on fake and real images \n",
        "        d_stats = discriminator_model.train_on_batch(x, y)   \n",
        "        \n",
        "        # train generator based on ability to fool discriminator\n",
        "        noise = np.random.normal(0, 1, (batch_size*2, 100))\n",
        "        a_stats = adversarial_model.train_on_batch(noise, np.ones([batch_size*2, 1])) \n",
        "\n",
        "    print(d_stats)\n",
        "    print(a_stats)\n",
        "    print('---------------------------------------------------------')"
      ],
      "execution_count": 9,
      "outputs": []
    },
    {
      "cell_type": "markdown",
      "metadata": {
        "id": "gHvZQkjKxfzh",
        "colab_type": "text"
      },
      "source": [
        "#### **Function to generate training sample**"
      ]
    },
    {
      "cell_type": "code",
      "metadata": {
        "id": "4aAAW-w3xgNj",
        "colab_type": "code",
        "colab": {
          "base_uri": "https://localhost:8080/",
          "height": 34
        },
        "outputId": "d4b51159-8236-4475-b1b6-cbbcf1dd47af"
      },
      "source": [
        "try:\n",
        "    vis_noise = np.load(root_folder+'/vis_noise.npy')\n",
        "    print('Visual noise loaded.')\n",
        "\n",
        "except:\n",
        "    print('Creating new visual noise.')\n",
        "    vis_noise = np.random.normal(0, 1, (16, 100))\n",
        "    np.save(root_folder+'/vis_noise', vis_noise)\n",
        "\n",
        "\n",
        "def genSample(path, epoch):\n",
        "    generated_images = generator.predict(vis_noise)\n",
        "    plt.figure(figsize=(10, 10))\n",
        "    generated_images = (generated_images*0.5)+0.5\n",
        "    \n",
        "    for im in range(generated_images.shape[0]):\n",
        "        plt.subplot(4, 4, im + 1)\n",
        "        image = generated_images[im, :, :, :]\n",
        "        plt.imshow(image)\n",
        "        plt.axis('off')\n",
        "\n",
        "    plot = path+'/Epoch{}.png'.format(epoch)\n",
        "    plt.savefig(plot)\n",
        "    plt.close('all')   \n"
      ],
      "execution_count": 10,
      "outputs": [
        {
          "output_type": "stream",
          "text": [
            "Creating new visual noise.\n"
          ],
          "name": "stdout"
        }
      ]
    },
    {
      "cell_type": "markdown",
      "metadata": {
        "id": "XqMfK6PyxuDU",
        "colab_type": "text"
      },
      "source": [
        "#### **Train model**"
      ]
    },
    {
      "cell_type": "code",
      "metadata": {
        "id": "ef__gpbPkInX",
        "colab_type": "code",
        "colab": {
          "base_uri": "https://localhost:8080/",
          "height": 397,
          "referenced_widgets": [
            "97224a09b7694b9b8b9ca84976f4d4b0",
            "61cd07aab0b144bba277f57e1d03e465",
            "f6e2f9fde2cc41fd9110bc5129d0d514",
            "82ff6a37c4cb44c2b48bb84622e6b0a9",
            "92c8d79740244bddb27c6c175dd9b5a9",
            "559b9fc69a6f4397ac94f3e319614ec6",
            "d90b8e6b864c4015a25d12e61ccc8232",
            "cd6d35a5233f4fd7b3bc24142d3ac4f1",
            "a62be3d24a5f4f6d80fb3b0032218a1f",
            "b05d6a4f8fa1442497ced6996763530d",
            "d0f8ca5accae48798f76907b4a493874",
            "01c7eaf7df7d450ba5140d758aa0ac65",
            "c5005f4cba19495d8048e5e6c28f740e",
            "4612b4a457834f07ae294c4d239e22c5",
            "7c08b56b91014ebaada878ab8731da54",
            "3147ea16d3ac41d4842c7a90fcd87780",
            "3cf3e533b5f74c69bbd57fbb1390e5f6",
            "ec9192826a7140a38123343e817df13f",
            "f7e32427233440129c805f2fe42919da",
            "ff0435cf88454f83bb5f21e1d248c145",
            "6aac70ca2d384c8cbb3b116a7bc47cf9",
            "f2cf07e9544d4ca282982ccce27a52c0",
            "862d9658a65447e89b6c897ef6409ad0",
            "120f11f008e44397a7f0458e4151ccf3"
          ]
        },
        "outputId": "4acf89ca-1f67-43fd-d5a7-264afbbdb511"
      },
      "source": [
        "import os\n",
        "\n",
        "weights_path=root_folder + '/weights'\n",
        "training_sample_path = root_folder + '/training_samples'\n",
        "\n",
        "if not os.path.exists(training_sample_path):\n",
        "    os.makedirs(training_sample_path)\n",
        "\n",
        "if not os.path.exists(weights_path):\n",
        "    os.makedirs(weights_path)\n",
        "\n",
        "batch_size = 128\n",
        "\n",
        "for epoch in range(1, 1001):\n",
        "    genSample(training_sample_path, epoch)\n",
        "    train(epoch, batch_size)\n",
        "\n",
        "    if epoch%10==0:\n",
        "        discriminator_model.save_weights(weights_path + '/discriminator_weights_epoch{}.h5'.format(epoch))\n",
        "        adversarial_model.save_weights(weights_path + '/adversarial_weights_epoch{}.h5'.format(epoch))                             \n"
      ],
      "execution_count": null,
      "outputs": [
        {
          "output_type": "stream",
          "text": [
            "\n",
            "Epoch: 1\n"
          ],
          "name": "stdout"
        },
        {
          "output_type": "display_data",
          "data": {
            "application/vnd.jupyter.widget-view+json": {
              "model_id": "97224a09b7694b9b8b9ca84976f4d4b0",
              "version_minor": 0,
              "version_major": 2
            },
            "text/plain": [
              "HBox(children=(FloatProgress(value=0.0, max=89.0), HTML(value='')))"
            ]
          },
          "metadata": {
            "tags": []
          }
        },
        {
          "output_type": "stream",
          "text": [
            "/usr/local/lib/python3.6/dist-packages/keras/engine/training.py:297: UserWarning: Discrepancy between trainable weights and collected trainable weights, did you set `model.trainable` without calling `model.compile` after ?\n",
            "  'Discrepancy between trainable weights and collected trainable'\n"
          ],
          "name": "stderr"
        },
        {
          "output_type": "stream",
          "text": [
            "\n",
            "[0.0071835374, 1.0]\n",
            "[0.42394727, 0.91015625]\n",
            "---------------------------------------------------------\n",
            "\n",
            "Epoch: 2\n"
          ],
          "name": "stdout"
        },
        {
          "output_type": "display_data",
          "data": {
            "application/vnd.jupyter.widget-view+json": {
              "model_id": "a62be3d24a5f4f6d80fb3b0032218a1f",
              "version_minor": 0,
              "version_major": 2
            },
            "text/plain": [
              "HBox(children=(FloatProgress(value=0.0, max=89.0), HTML(value='')))"
            ]
          },
          "metadata": {
            "tags": []
          }
        },
        {
          "output_type": "stream",
          "text": [
            "\n",
            "[0.0067057316, 1.0]\n",
            "[0.12802634, 0.98046875]\n",
            "---------------------------------------------------------\n",
            "\n",
            "Epoch: 3\n"
          ],
          "name": "stdout"
        },
        {
          "output_type": "display_data",
          "data": {
            "application/vnd.jupyter.widget-view+json": {
              "model_id": "3cf3e533b5f74c69bbd57fbb1390e5f6",
              "version_minor": 0,
              "version_major": 2
            },
            "text/plain": [
              "HBox(children=(FloatProgress(value=0.0, max=89.0), HTML(value='')))"
            ]
          },
          "metadata": {
            "tags": []
          }
        }
      ]
    }
  ]
}