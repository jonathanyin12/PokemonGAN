{
  "nbformat": 4,
  "nbformat_minor": 0,
  "metadata": {
    "colab": {
      "name": "PokemonGAN.ipynb",
      "provenance": [],
      "collapsed_sections": [],
      "machine_shape": "hm",
      "include_colab_link": true
    },
    "kernelspec": {
      "name": "python3",
      "display_name": "Python 3"
    },
    "accelerator": "GPU"
  },
  "cells": [
    {
      "cell_type": "markdown",
      "metadata": {
        "id": "view-in-github",
        "colab_type": "text"
      },
      "source": [
        "<a href=\"https://colab.research.google.com/github/jonathanyin12/Pokemon_GAN/blob/master/PokemonGAN.ipynb\" target=\"_parent\"><img src=\"https://colab.research.google.com/assets/colab-badge.svg\" alt=\"Open In Colab\"/></a>"
      ]
    },
    {
      "cell_type": "markdown",
      "metadata": {
        "id": "nWgsaTi8VWQV",
        "colab_type": "text"
      },
      "source": [
        "# **PokémonGAN**\n",
        "**A generative adversarial network that creates new Pokémon from a latent noise vector.**\n",
        "\n",
        "Note: code available on [Google Colab](https://colab.research.google.com/drive/1x-K3smQp346dR2qa2F3vYaMfaDvtx9Mt). Training data can be found [here.](https://drive.google.com/open?id=10Wtmd6NsfhmSiws68muWYnhyGqyKWrsZ)"
      ]
    },
    {
      "cell_type": "markdown",
      "metadata": {
        "id": "NwuRIGPwVowX",
        "colab_type": "text"
      },
      "source": [
        "## **Load data**"
      ]
    },
    {
      "cell_type": "markdown",
      "metadata": {
        "id": "-CrLo5KjDi9a",
        "colab_type": "text"
      },
      "source": [
        "### **Connect to Google Drive**"
      ]
    },
    {
      "cell_type": "code",
      "metadata": {
        "id": "JViGn1S2UFnw",
        "colab_type": "code",
        "colab": {}
      },
      "source": [
        "from google.colab import drive\n",
        "drive.mount('/content/drive')\n",
        "\n",
        "root_folder='/content/drive/My Drive/GANs/DCGAN/'"
      ],
      "execution_count": 0,
      "outputs": []
    },
    {
      "cell_type": "markdown",
      "metadata": {
        "id": "--8sPv3wVvSj",
        "colab_type": "text"
      },
      "source": [
        "### **Unzip training dataset**"
      ]
    },
    {
      "cell_type": "code",
      "metadata": {
        "id": "_cxOBCKPUgUG",
        "colab_type": "code",
        "colab": {}
      },
      "source": [
        "from zipfile import ZipFile\n",
        "\n",
        "data_path='/content/drive/My Drive/GANs/pokemon_dataset.zip'\n",
        "\n",
        "with ZipFile(data_path, 'r') as zipObj:\n",
        "   zipObj.extractall()"
      ],
      "execution_count": 0,
      "outputs": []
    },
    {
      "cell_type": "markdown",
      "metadata": {
        "id": "YmemmD9gZsRY",
        "colab_type": "text"
      },
      "source": [
        "### **Prepare images into NumPy array**"
      ]
    },
    {
      "cell_type": "code",
      "metadata": {
        "id": "2ArkFCwvADdy",
        "colab_type": "code",
        "colab": {}
      },
      "source": [
        "from PIL import Image\n",
        "import os\n",
        "from tqdm import tqdm_notebook\n",
        "import numpy as np\n",
        "\n",
        "def load_data(path, img_dim):\n",
        "    images = []\n",
        "    for file in tqdm_notebook(os.listdir(path)):\n",
        "        img = Image.open(os.path.join(path, file))\n",
        "        img = img.resize((img_dim, img_dim))\n",
        "        img = np.array(img)\n",
        "        img = (img-127.5)/127.5\n",
        "        images.append(img)\n",
        "    return np.asarray(images)\n",
        "\n",
        "data_dir = '/content/training_dataset'\n",
        "img_dim = 128\n",
        "images = load_data(data_dir, img_dim)"
      ],
      "execution_count": 0,
      "outputs": []
    },
    {
      "cell_type": "markdown",
      "metadata": {
        "id": "qdoHPAiOwixH",
        "colab_type": "text"
      },
      "source": [
        "### **Display image from dataset**"
      ]
    },
    {
      "cell_type": "code",
      "metadata": {
        "id": "L9vInq7ggFsd",
        "colab_type": "code",
        "colab": {
          "base_uri": "https://localhost:8080/",
          "height": 265
        },
        "outputId": "ea81f90b-20e7-4145-ccb2-f16bbd67005a"
      },
      "source": [
        "from matplotlib import pyplot as plt\n",
        "\n",
        "plt.imshow(images[0])\n",
        "plt.axis('off')\n",
        "plt.show()"
      ],
      "execution_count": 5,
      "outputs": [
        {
          "output_type": "stream",
          "text": [
            "Clipping input data to the valid range for imshow with RGB data ([0..1] for floats or [0..255] for integers).\n"
          ],
          "name": "stderr"
        },
        {
          "output_type": "display_data",
          "data": {
            "image/png": "[encoded data removed]",
            "text/plain": [
              "<Figure size 432x288 with 1 Axes>"
            ]
          },
          "metadata": {
            "tags": []
          }
        }
      ]
    },
    {
      "cell_type": "markdown",
      "metadata": {
        "id": "X0H-Jw4zA_0y",
        "colab_type": "text"
      },
      "source": [
        "## **Model architecture**\n",
        "\n",
        "Uses DCGAN architecture presented by Radford et. al. 2015. The paper can be found here: [https://arxiv.org/pdf/1511.06434.pdf](https://arxiv.org/pdf/1511.06434.pdf)"
      ]
    },
    {
      "cell_type": "markdown",
      "metadata": {
        "id": "zUhHPf5h3W-A",
        "colab_type": "text"
      },
      "source": [
        "### **Generator network**"
      ]
    },
    {
      "cell_type": "code",
      "metadata": {
        "id": "3ycdos2iNVJg",
        "colab_type": "code",
        "colab": {}
      },
      "source": [
        "from keras.layers import Dense, Reshape, Flatten, Input, BatchNormalization, Dropout, Activation\n",
        "from keras.layers.convolutional import Conv2D\n",
        "from keras.models import Sequential\n",
        "\n",
        "\n",
        "def build_generator():\n",
        "    net = Sequential()    \n",
        "    net.add(Dense(16*16*256, input_dim=100))\n",
        "    net.add(BatchNormalization(momentum=0.9))\n",
        "    net.add(Activation('relu'))\n",
        "    net.add(Reshape((16,16,256)))\n",
        "    net.add(Dropout(0.4))\n",
        "    \n",
        "    net.add(UpSampling2D())\n",
        "    net.add(Conv2D(128, 5, padding='same'))\n",
        "    net.add(BatchNormalization(momentum=0.9))\n",
        "    net.add(Activation('relu'))\n",
        "    \n",
        "    net.add(UpSampling2D())\n",
        "    net.add(Conv2D(128, 5, padding='same'))\n",
        "    net.add(BatchNormalization(momentum=0.9))\n",
        "    net.add(Activation('relu'))\n",
        "    \n",
        "    net.add(UpSampling2D())\n",
        "    net.add(Conv2D(64, 5, padding='same'))\n",
        "    net.add(BatchNormalization(momentum=0.9))\n",
        "    net.add(Activation('relu'))\n",
        "    \n",
        "    net.add(Conv2D(32, 5, padding='same'))\n",
        "    net.add(BatchNormalization(momentum=0.9))\n",
        "    net.add(Activation('relu'))\n",
        "    \n",
        "    net.add(Conv2D(3, 5, padding='same'))\n",
        "    net.add(Activation('tanh'))   \n",
        "\n",
        "    net.summary()\n",
        "    \n",
        "    return net"
      ],
      "execution_count": 0,
      "outputs": []
    },
    {
      "cell_type": "markdown",
      "metadata": {
        "id": "NtXq2tYP3ak8",
        "colab_type": "text"
      },
      "source": [
        "### **Discriminator network**"
      ]
    },
    {
      "cell_type": "code",
      "metadata": {
        "id": "0oXuTUjF0eOR",
        "colab_type": "code",
        "colab": {}
      },
      "source": [
        "from keras.layers.convolutional import Conv2D, UpSampling2D\n",
        "from keras.layers.advanced_activations import LeakyReLU\n",
        "\n",
        "def build_discriminator():\n",
        "    net = Sequential()\n",
        "    net.add(Conv2D(64, 5, strides=2, input_shape=(128, 128, 3), padding='same'))\n",
        "    net.add(LeakyReLU())\n",
        "    \n",
        "    net.add(Conv2D(128, 5, strides=2, padding='same'))\n",
        "    net.add(LeakyReLU())\n",
        "    net.add(Dropout(0.4))\n",
        "    \n",
        "    net.add(Conv2D(256, 5, strides=2, padding='same'))\n",
        "    net.add(LeakyReLU())\n",
        "    net.add(Dropout(0.4))\n",
        "    \n",
        "    net.add(Conv2D(512, 5, strides=2, padding='same'))\n",
        "    net.add(LeakyReLU())\n",
        "    net.add(Dropout(0.4))\n",
        "    \n",
        "    net.add(Flatten())\n",
        "    net.add(Dense(1))\n",
        "    net.add(Activation('sigmoid'))\n",
        "    \n",
        "    net.summary()\n",
        "    \n",
        "    return net"
      ],
      "execution_count": 0,
      "outputs": []
    },
    {
      "cell_type": "markdown",
      "metadata": {
        "id": "2Hq43Eh_lOzz",
        "colab_type": "text"
      },
      "source": [
        "### **Compile models**\n",
        "\n",
        "Adversarial model combines both generator and discriminator\n"
      ]
    },
    {
      "cell_type": "code",
      "metadata": {
        "id": "vX-wgj3Vi8fA",
        "colab_type": "code",
        "colab": {}
      },
      "source": [
        "from keras.optimizers import Adam, RMSprop\n",
        "\n",
        "discriminator_model = build_discriminator()\n",
        "discriminator_optimizer=RMSprop(lr=0.0002, clipvalue=1.0, decay=6e-8)\n",
        "discriminator_model.compile(loss='binary_crossentropy', \n",
        "                            optimizer=discriminator_optimizer,\n",
        "                            metrics=['accuracy'])\n",
        "\n",
        "\n",
        "adversarial_model = Sequential()\n",
        "generator = build_generator()\n",
        "adversarial_model.add(generator)\n",
        "\n",
        "# discriminator layers frozen so only generator layers will train\n",
        "for layer in discriminator_model.layers: \n",
        "    layer.trainable = False\n",
        "\n",
        "adversarial_model.add(discriminator_model)\n",
        "adversarial_optimizer=Adam(lr=0.0001, clipvalue=1.0, decay=3e-8)\n",
        "adversarial_model.compile(loss='binary_crossentropy',\n",
        "                          optimizer=adversarial_optimizer,\n",
        "                          metrics=['accuracy'])   "
      ],
      "execution_count": 0,
      "outputs": []
    },
    {
      "cell_type": "markdown",
      "metadata": {
        "id": "FjWU69yiFFZW",
        "colab_type": "text"
      },
      "source": [
        "## **Training**"
      ]
    },
    {
      "cell_type": "markdown",
      "metadata": {
        "id": "oqRbxE_5XATT",
        "colab_type": "text"
      },
      "source": [
        "### **Load previous weights**"
      ]
    },
    {
      "cell_type": "code",
      "metadata": {
        "id": "a-XsexNz2ekL",
        "colab_type": "code",
        "colab": {}
      },
      "source": [
        "past_epoch=0\n",
        "\n",
        "try: \n",
        "    discriminator_model.load_weights(root_folder+'Weights/discriminator_weights{}.h5'.format(past_epoch))\n",
        "    adversarial_model.load_weights(root_folder+'Weights/adversarial_weights{}.h5'.format(past_epoch))\n",
        "    print('Loading model weights')\n",
        "except:\n",
        "    print('No model weights found.')"
      ],
      "execution_count": 0,
      "outputs": []
    },
    {
      "cell_type": "markdown",
      "metadata": {
        "id": "_2xBGo5rxmb3",
        "colab_type": "text"
      },
      "source": [
        "### **Custom training function**"
      ]
    },
    {
      "cell_type": "code",
      "metadata": {
        "id": "c-jtYO97kKSY",
        "colab_type": "code",
        "colab": {}
      },
      "source": [
        "def train(epoch, batch_size):\n",
        "    print('\\nEpoch: {}'.format(epoch))\n",
        "    \n",
        "    np.random.shuffle(images)\n",
        "    total_steps = images.shape[0] // batch_size\n",
        "   \n",
        "    for step in tqdm_notebook(range(total_steps)):\n",
        "        # generate fake images by passing random noise into generator\n",
        "        noise = np.random.normal(0, 1, (batch_size, 100))\n",
        "        images_fake = generator.predict(noise) \n",
        "        \n",
        "        # combine fake and real images\n",
        "        images_real = images[step * batch_size: (step + 1) * batch_size]  \n",
        "        x = np.concatenate((images_fake, images_real)) \n",
        "\n",
        "        # create training labels\n",
        "        y = np.zeros([2*batch_size, 1])\n",
        "        y[batch_size:, :] = 1 \n",
        "    \n",
        "        # train discriminator on fake and real images \n",
        "        d_stats = discriminator_model.train_on_batch(x, y)   \n",
        "        \n",
        "        # train generator based on ability to fool discriminator\n",
        "        noise = np.random.normal(0, 1, (batch_size*2, 100))\n",
        "        a_stat = adversarial_model.train_on_batch(noise, np.ones([batch_size*2, 1])) \n",
        "\n",
        "        if step%100==0:\n",
        "            print(step)\n",
        "            print(d_stats)\n",
        "            print(a_stat)"
      ],
      "execution_count": 0,
      "outputs": []
    },
    {
      "cell_type": "markdown",
      "metadata": {
        "id": "gHvZQkjKxfzh",
        "colab_type": "text"
      },
      "source": [
        "### **Function to generate training sample**"
      ]
    },
    {
      "cell_type": "code",
      "metadata": {
        "id": "4aAAW-w3xgNj",
        "colab_type": "code",
        "colab": {}
      },
      "source": [
        "training_sample_path = root_folder + \"Training Samples/\"\n",
        "\n",
        "try:\n",
        "    print('Visual noise loaded.')\n",
        "    vis_noise = np.load(root_folder+'vis_noise.npy')\n",
        "\n",
        "except:\n",
        "    print('Creating new visual noise.')\n",
        "    vis_noise = np.random.normal(0, 1, (16, 100))\n",
        "    np.save(root_folder+'vis_noise', vis_noise)\n",
        "\n",
        "\n",
        "def genSample(path, epoch):\n",
        "    generated_images = generator.predict(vis_noise)\n",
        "    plt.figure(figsize=(10, 10))\n",
        "    generated_images = (generated_images*0.5)+0.5\n",
        "    \n",
        "    for im in range(generated_images.shape[0]):\n",
        "        plt.subplot(4, 4, im + 1)\n",
        "        image = generated_images[im, :, :, :]\n",
        "        plt.imshow(image)\n",
        "        plt.axis('off')\n",
        "\n",
        "    plot = path+'Epoch{}.png'.format(epoch)\n",
        "    plt.savefig(plot)\n",
        "    plt.close('all')   \n"
      ],
      "execution_count": 0,
      "outputs": []
    },
    {
      "cell_type": "markdown",
      "metadata": {
        "id": "XqMfK6PyxuDU",
        "colab_type": "text"
      },
      "source": [
        "### **Train model**"
      ]
    },
    {
      "cell_type": "code",
      "metadata": {
        "id": "ef__gpbPkInX",
        "colab_type": "code",
        "colab": {}
      },
      "source": [
        "batch_size = 64\n",
        "\n",
        "for epoch in range(1, 1001):\n",
        "    genSample(training_sample_path, epoch)\n",
        "    train(epoch, batch_size)\n",
        "\n",
        "    if epoch%100==0:\n",
        "        discriminator_model.save_weights(root_folder+'Weights/discriminator_weights_epoch{}.h5'.format(epoch))\n",
        "        adversarial_model.save_weights(root_folder+'Weights/adversarial_weights_epoch{}.h5'.format(epoch))                             \n"
      ],
      "execution_count": 0,
      "outputs": []
    }
  ]
}